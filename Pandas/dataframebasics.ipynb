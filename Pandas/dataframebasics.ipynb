{
 "cells": [
  {
   "cell_type": "markdown",
   "id": "fb4fc080",
   "metadata": {},
   "source": [
    "## Creation of dataframe using **pandas** library"
   ]
  },
  {
   "cell_type": "code",
   "execution_count": 5,
   "id": "3c4b3de2",
   "metadata": {},
   "outputs": [],
   "source": [
    "#import pandas library\n",
    "import pandas as pd\n",
    "from IPython.core.interactiveshell import InteractiveShell\n",
    "InteractiveShell.ast_node_interactivity = \"all\""
   ]
  },
  {
   "cell_type": "code",
   "execution_count": 6,
   "id": "536c0b7a",
   "metadata": {},
   "outputs": [
    {
     "data": {
      "text/html": [
       "<div>\n",
       "<style scoped>\n",
       "    .dataframe tbody tr th:only-of-type {\n",
       "        vertical-align: middle;\n",
       "    }\n",
       "\n",
       "    .dataframe tbody tr th {\n",
       "        vertical-align: top;\n",
       "    }\n",
       "\n",
       "    .dataframe thead th {\n",
       "        text-align: right;\n",
       "    }\n",
       "</style>\n",
       "<table border=\"1\" class=\"dataframe\">\n",
       "  <thead>\n",
       "    <tr style=\"text-align: right;\">\n",
       "      <th></th>\n",
       "      <th>name</th>\n",
       "      <th>year</th>\n",
       "      <th>chocolates</th>\n",
       "    </tr>\n",
       "  </thead>\n",
       "  <tbody>\n",
       "    <tr>\n",
       "      <th>Dark</th>\n",
       "      <td>Rahul</td>\n",
       "      <td>1998</td>\n",
       "      <td>6</td>\n",
       "    </tr>\n",
       "    <tr>\n",
       "      <th>Milk</th>\n",
       "      <td>Riya</td>\n",
       "      <td>2004</td>\n",
       "      <td>10</td>\n",
       "    </tr>\n",
       "    <tr>\n",
       "      <th>Caramel</th>\n",
       "      <td>Shilpa</td>\n",
       "      <td>2000</td>\n",
       "      <td>9</td>\n",
       "    </tr>\n",
       "    <tr>\n",
       "      <th>Mint</th>\n",
       "      <td>Ishaan</td>\n",
       "      <td>2007</td>\n",
       "      <td>11</td>\n",
       "    </tr>\n",
       "    <tr>\n",
       "      <th>Sea Salt</th>\n",
       "      <td>Chloe</td>\n",
       "      <td>2017</td>\n",
       "      <td>3</td>\n",
       "    </tr>\n",
       "    <tr>\n",
       "      <th>Fudge</th>\n",
       "      <td>Marshmallow</td>\n",
       "      <td>2020</td>\n",
       "      <td>2</td>\n",
       "    </tr>\n",
       "  </tbody>\n",
       "</table>\n",
       "</div>"
      ],
      "text/plain": [
       "                 name  year  chocolates\n",
       "Dark            Rahul  1998           6\n",
       "Milk             Riya  2004          10\n",
       "Caramel        Shilpa  2000           9\n",
       "Mint           Ishaan  2007          11\n",
       "Sea Salt        Chloe  2017           3\n",
       "Fudge     Marshmallow  2020           2"
      ]
     },
     "execution_count": 6,
     "metadata": {},
     "output_type": "execute_result"
    }
   ],
   "source": [
    "data = {'name': ['Rahul', 'Riya', 'Shilpa', 'Ishaan', 'Chloe','Marshmallow'], \n",
    "        'year': [1998, 2004, 2000, 2007, 2017,2020], \n",
    "        'chocolates': [6, 10, 9, 11, 3,2]}\n",
    "  \n",
    "df = pd.DataFrame(data, index = ['Dark', 'Milk', 'Caramel', 'Mint', 'Sea Salt','Fudge'])\n",
    "df"
   ]
  }
 ],
 "metadata": {
  "kernelspec": {
   "display_name": "Python 3",
   "language": "python",
   "name": "python3"
  },
  "language_info": {
   "codemirror_mode": {
    "name": "ipython",
    "version": 3
   },
   "file_extension": ".py",
   "mimetype": "text/x-python",
   "name": "python",
   "nbconvert_exporter": "python",
   "pygments_lexer": "ipython3",
   "version": "3.9.1"
  }
 },
 "nbformat": 4,
 "nbformat_minor": 5
}
