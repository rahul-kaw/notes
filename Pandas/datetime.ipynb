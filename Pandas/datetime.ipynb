{
 "cells": [
  {
   "cell_type": "markdown",
   "id": "e9590e57-06b8-4fd8-b2dd-b5c3ce3a06be",
   "metadata": {},
   "source": [
    "## Date,Time and Period Ranges in Pandas"
   ]
  },
  {
   "cell_type": "code",
   "execution_count": 8,
   "id": "44b6bff5-3317-4917-afd6-0811d0f22a3e",
   "metadata": {},
   "outputs": [],
   "source": [
    "import pandas as pd\n",
    "import numpy as np\n",
    "from datetime import datetime"
   ]
  },
  {
   "cell_type": "code",
   "execution_count": 59,
   "id": "fd44494c-aec3-40c5-8cb2-0b8be02bd3c1",
   "metadata": {},
   "outputs": [
    {
     "data": {
      "text/plain": [
       "DatetimeIndex(['2021-05-02', '2021-06-02', '2021-04-06', '2021-05-03',\n",
       "               '2021-02-12', '2021-07-01'],\n",
       "              dtype='datetime64[ns]', freq=None)"
      ]
     },
     "execution_count": 59,
     "metadata": {},
     "output_type": "execute_result"
    }
   ],
   "source": [
    "dt = pd.to_datetime( ['05-02-2021', '06-02-2021',\n",
    "'2021-Apr-6', '05-03-2021', datetime(2021,2,12),'20210701'])\n",
    "dt"
   ]
  },
  {
   "cell_type": "code",
   "execution_count": 23,
   "id": "1e70f773-adb9-4dc4-8268-1d94fb570042",
   "metadata": {},
   "outputs": [
    {
     "data": {
      "text/plain": [
       "PeriodIndex(['2021-05', '2021-06', '2021-04', '2021-05', '2021-02', '2021-07'], dtype='period[M]', freq='M')"
      ]
     },
     "execution_count": 23,
     "metadata": {},
     "output_type": "execute_result"
    }
   ],
   "source": [
    "dt.to_period('M')"
   ]
  },
  {
   "cell_type": "code",
   "execution_count": 24,
   "id": "f2ddee29-77aa-4a93-b299-4834033240f5",
   "metadata": {},
   "outputs": [
    {
     "data": {
      "text/plain": [
       "PeriodIndex(['2021-05-02', '2021-06-02', '2021-04-06', '2021-05-03',\n",
       "             '2021-02-12', '2021-07-01'],\n",
       "            dtype='period[D]', freq='D')"
      ]
     },
     "execution_count": 24,
     "metadata": {},
     "output_type": "execute_result"
    }
   ],
   "source": [
    "dt.to_period('D')"
   ]
  },
  {
   "cell_type": "markdown",
   "id": "987562dc-9dda-4957-949c-20321fdc1322",
   "metadata": {},
   "source": [
    "### pandas.date_range creates date ranges depending on parameters passed in. It returns a DateTimeIndex object of datetime64 type and length based on range being created\n",
    "### Date range can be created by passing both start & end date OR only if one is passed then number of periods is required."
   ]
  },
  {
   "cell_type": "code",
   "execution_count": 36,
   "id": "10978685-422f-42fc-a023-43593e256286",
   "metadata": {},
   "outputs": [],
   "source": [
    "b = pd.date_range('05-01-2021','05-10-2021')"
   ]
  },
  {
   "cell_type": "code",
   "execution_count": 32,
   "id": "48f95165-1a63-4112-a75b-3d5b1dc16a2e",
   "metadata": {},
   "outputs": [
    {
     "data": {
      "text/plain": [
       "DatetimeIndex(['2021-05-05 00:00:00', '2021-05-05 01:00:00',\n",
       "               '2021-05-05 02:00:00', '2021-05-05 03:00:00'],\n",
       "              dtype='datetime64[ns]', freq='H')"
      ]
     },
     "execution_count": 32,
     "metadata": {},
     "output_type": "execute_result"
    }
   ],
   "source": [
    "pd.date_range('2021-05-05',periods=4,freq='H')"
   ]
  },
  {
   "cell_type": "code",
   "execution_count": 33,
   "id": "8bcacdbc-89d1-4fce-8c9f-26d6a6a490cb",
   "metadata": {},
   "outputs": [
    {
     "data": {
      "text/plain": [
       "DatetimeIndex(['2021-05-05', '2021-05-06', '2021-05-07', '2021-05-08',\n",
       "               '2021-05-09', '2021-05-10', '2021-05-11', '2021-05-12',\n",
       "               '2021-05-13', '2021-05-14', '2021-05-15'],\n",
       "              dtype='datetime64[ns]', freq='D')"
      ]
     },
     "execution_count": 33,
     "metadata": {},
     "output_type": "execute_result"
    }
   ],
   "source": [
    "pd.date_range('2021-05-5','05-15-2021')"
   ]
  },
  {
   "cell_type": "code",
   "execution_count": 32,
   "id": "40955d7d-d3e2-4a5c-b7e2-e7fcecea3fac",
   "metadata": {},
   "outputs": [
    {
     "data": {
      "text/plain": [
       "DatetimeIndex(['2021-05-01', '2021-05-02', '2021-05-03', '2021-05-04',\n",
       "               '2021-05-05', '2021-05-06', '2021-05-07'],\n",
       "              dtype='datetime64[ns]', freq='D')"
      ]
     },
     "execution_count": 32,
     "metadata": {},
     "output_type": "execute_result"
    }
   ],
   "source": [
    "pd.date_range('05-01-2021',periods=7)"
   ]
  },
  {
   "cell_type": "code",
   "execution_count": 37,
   "id": "1b674510-4335-49f1-943a-43231c8872ed",
   "metadata": {},
   "outputs": [
    {
     "data": {
      "text/plain": [
       "DatetimeIndex(['2021-12-31', '2022-12-31', '2023-12-31', '2024-12-31',\n",
       "               '2025-12-31'],\n",
       "              dtype='datetime64[ns]', freq='A-DEC')"
      ]
     },
     "execution_count": 37,
     "metadata": {},
     "output_type": "execute_result"
    }
   ],
   "source": [
    "pd.date_range('05-01-2021',periods=5,freq = 'Y')"
   ]
  },
  {
   "cell_type": "code",
   "execution_count": 38,
   "id": "202390e8-7fcc-4416-8f89-71f1a69dffb7",
   "metadata": {},
   "outputs": [
    {
     "data": {
      "text/plain": [
       "DatetimeIndex(['2021-05-31', '2021-06-30', '2021-07-31', '2021-08-31',\n",
       "               '2021-09-30'],\n",
       "              dtype='datetime64[ns]', freq='M')"
      ]
     },
     "execution_count": 38,
     "metadata": {},
     "output_type": "execute_result"
    }
   ],
   "source": [
    "pd.date_range('05-01-2021',periods=5,freq = 'M')"
   ]
  },
  {
   "cell_type": "code",
   "execution_count": 70,
   "id": "e96a6187-f5b0-4a40-ba61-3f744a2932d3",
   "metadata": {},
   "outputs": [
    {
     "data": {
      "text/plain": [
       "DatetimeIndex(['2021-05-02', '2021-05-09', '2021-05-16'], dtype='datetime64[ns]', freq='W-SUN')"
      ]
     },
     "execution_count": 70,
     "metadata": {},
     "output_type": "execute_result"
    }
   ],
   "source": [
    "pd.date_range('05-01-2021',periods=3,freq = 'W')"
   ]
  },
  {
   "cell_type": "code",
   "execution_count": 69,
   "id": "b92e8f3d-5aa8-4fa6-99c7-4dc299a0f55e",
   "metadata": {},
   "outputs": [
    {
     "data": {
      "text/plain": [
       "DatetimeIndex(['2021-05-01 00:00:00', '2021-05-01 01:00:00',\n",
       "               '2021-05-01 02:00:00', '2021-05-01 03:00:00',\n",
       "               '2021-05-01 04:00:00', '2021-05-01 05:00:00',\n",
       "               '2021-05-01 06:00:00', '2021-05-01 07:00:00',\n",
       "               '2021-05-01 08:00:00', '2021-05-01 09:00:00',\n",
       "               '2021-05-01 10:00:00', '2021-05-01 11:00:00'],\n",
       "              dtype='datetime64[ns]', freq='H')"
      ]
     },
     "execution_count": 69,
     "metadata": {},
     "output_type": "execute_result"
    }
   ],
   "source": [
    "pd.date_range('05-01-2021',periods=12,freq = 'H')"
   ]
  },
  {
   "cell_type": "code",
   "execution_count": 67,
   "id": "25fa7e6d-2bc6-437d-a2c6-9e9100348767",
   "metadata": {},
   "outputs": [
    {
     "data": {
      "text/plain": [
       "DatetimeIndex(['2021-05-01 00:00:00', '2021-05-01 02:10:00',\n",
       "               '2021-05-01 04:20:00', '2021-05-01 06:30:00',\n",
       "               '2021-05-01 08:40:00', '2021-05-01 10:50:00',\n",
       "               '2021-05-01 13:00:00', '2021-05-01 15:10:00'],\n",
       "              dtype='datetime64[ns]', freq='130T')"
      ]
     },
     "execution_count": 67,
     "metadata": {},
     "output_type": "execute_result"
    }
   ],
   "source": [
    "pd.date_range('05-01-2021',periods=8,freq='2h10min')"
   ]
  },
  {
   "cell_type": "code",
   "execution_count": 54,
   "id": "ff635a47-2081-4792-9a56-425ae14c2712",
   "metadata": {},
   "outputs": [
    {
     "data": {
      "text/plain": [
       "DatetimeIndex(['2021-06-30', '2021-09-30', '2021-12-31'], dtype='datetime64[ns]', freq='Q-DEC')"
      ]
     },
     "execution_count": 54,
     "metadata": {},
     "output_type": "execute_result"
    }
   ],
   "source": [
    "pd.date_range('05-01-2021',periods=3,freq = 'Q')"
   ]
  },
  {
   "cell_type": "code",
   "execution_count": 65,
   "id": "12100156-e382-473e-8861-9a8a8417fce3",
   "metadata": {},
   "outputs": [
    {
     "data": {
      "text/plain": [
       "DatetimeIndex(['2021-05-03', '2021-06-07', '2021-07-05', '2021-08-02',\n",
       "               '2021-09-06'],\n",
       "              dtype='datetime64[ns]', freq='WOM-1MON')"
      ]
     },
     "execution_count": 65,
     "metadata": {},
     "output_type": "execute_result"
    }
   ],
   "source": [
    "pd.date_range('05-01-2021',freq ='WOM-1MON',periods=5 )"
   ]
  },
  {
   "cell_type": "markdown",
   "id": "6cc0c898-61b6-4b6b-aa00-500172d42c18",
   "metadata": {},
   "source": [
    "### pandas.period_range allows us to construct regular ranges of periods.It returns a PeriodIndex object "
   ]
  },
  {
   "cell_type": "code",
   "execution_count": 49,
   "id": "8a3286a2-77fe-4b0b-987d-58d343a48ea4",
   "metadata": {},
   "outputs": [
    {
     "data": {
      "text/plain": [
       "PeriodIndex(['2021-02-01/2021-02-07', '2021-02-08/2021-02-14',\n",
       "             '2021-02-15/2021-02-21', '2021-02-22/2021-02-28',\n",
       "             '2021-03-01/2021-03-07', '2021-03-08/2021-03-14'],\n",
       "            dtype='period[W-SUN]', freq='W-SUN')"
      ]
     },
     "execution_count": 49,
     "metadata": {},
     "output_type": "execute_result"
    }
   ],
   "source": [
    "pd.period_range('2021-02',freq='W',periods = 6)"
   ]
  },
  {
   "cell_type": "code",
   "execution_count": 42,
   "id": "8ab9ed29-4be9-46ba-af4e-c8ea5ac646c3",
   "metadata": {},
   "outputs": [
    {
     "data": {
      "text/plain": [
       "PeriodIndex(['2021-01', '2021-02', '2021-03', '2021-04'], dtype='period[M]', freq='M')"
      ]
     },
     "execution_count": 42,
     "metadata": {},
     "output_type": "execute_result"
    }
   ],
   "source": [
    "pd.period_range('01-2021', freq='M', periods=4)"
   ]
  },
  {
   "cell_type": "code",
   "execution_count": 43,
   "id": "bbc40cf7-e3d9-4bcc-b17a-62b1483d0d8e",
   "metadata": {},
   "outputs": [
    {
     "data": {
      "text/plain": [
       "PeriodIndex(['2021-01-01 00:00', '2021-01-01 01:00', '2021-01-01 02:00',\n",
       "             '2021-01-01 03:00'],\n",
       "            dtype='period[H]', freq='H')"
      ]
     },
     "execution_count": 43,
     "metadata": {},
     "output_type": "execute_result"
    }
   ],
   "source": [
    "pd.period_range('01-2021', freq='H', periods=4)"
   ]
  },
  {
   "cell_type": "code",
   "execution_count": 46,
   "id": "cd536d6c-93d1-4717-bcce-ee167ad9af43",
   "metadata": {},
   "outputs": [
    {
     "data": {
      "text/plain": [
       "PeriodIndex(['2021-01', '2021-02', '2021-03', '2021-04', '2021-05', '2021-06',\n",
       "             '2021-07', '2021-08', '2021-09', '2021-10', '2021-11', '2021-12',\n",
       "             '2022-01', '2022-02'],\n",
       "            dtype='period[M]', freq='M')"
      ]
     },
     "execution_count": 46,
     "metadata": {},
     "output_type": "execute_result"
    }
   ],
   "source": [
    "pd.period_range('01-2021', freq='M', periods=14)"
   ]
  },
  {
   "cell_type": "markdown",
   "id": "88a907d3-bb01-46a6-a816-45dda2faba1a",
   "metadata": {},
   "source": [
    "### pandas.timedelta_range creates TimedeltaInde object with specified frequency with Day being the frequency if none is specified"
   ]
  },
  {
   "cell_type": "code",
   "execution_count": 80,
   "id": "c56605a5-a5da-4890-b1cd-9cfafb27e521",
   "metadata": {},
   "outputs": [
    {
     "data": {
      "text/plain": [
       "TimedeltaIndex(['0 days 02:00:00', '0 days 04:00:00', '0 days 06:00:00'], dtype='timedelta64[ns]', freq=None)"
      ]
     },
     "execution_count": 80,
     "metadata": {},
     "output_type": "execute_result"
    }
   ],
   "source": [
    "pd.timedelta_range(start='2H',end='6H',periods=3)"
   ]
  },
  {
   "cell_type": "code",
   "execution_count": 83,
   "id": "a82fc9e8-0381-4dc5-8f97-511f122a7b43",
   "metadata": {},
   "outputs": [
    {
     "data": {
      "text/plain": [
       "TimedeltaIndex(['0 days 02:00:00', '0 days 02:40:00', '0 days 03:20:00',\n",
       "                '0 days 04:00:00'],\n",
       "               dtype='timedelta64[ns]', freq=None)"
      ]
     },
     "execution_count": 83,
     "metadata": {},
     "output_type": "execute_result"
    }
   ],
   "source": [
    "#Create a range starting from second hour to fourth hour with equal intervals between each range\n",
    "pd.timedelta_range(start='2H',end='4H', periods=4)"
   ]
  },
  {
   "cell_type": "code",
   "execution_count": 90,
   "id": "cb6ef505-2f83-4314-9b51-cdac84ea817d",
   "metadata": {},
   "outputs": [
    {
     "data": {
      "text/plain": [
       "TimedeltaIndex(['0 days 00:00:01', '0 days 00:00:02', '0 days 00:00:03',\n",
       "                '0 days 00:00:04'],\n",
       "               dtype='timedelta64[ns]', freq='S')"
      ]
     },
     "execution_count": 90,
     "metadata": {},
     "output_type": "execute_result"
    }
   ],
   "source": [
    "#Create a range of four seconds starting from first second\n",
    "pd.timedelta_range(start='1000ms',periods=4,freq='s')"
   ]
  },
  {
   "cell_type": "code",
   "execution_count": 61,
   "id": "88aa0212-c02c-4533-84e8-a9b92d471f70",
   "metadata": {},
   "outputs": [
    {
     "data": {
      "text/plain": [
       "TimedeltaIndex(['0 days 00:10:00', '0 days 00:12:00', '0 days 00:14:00',\n",
       "                '0 days 00:16:00', '0 days 00:18:00', '0 days 00:20:00'],\n",
       "               dtype='timedelta64[ns]', freq=None)"
      ]
     },
     "execution_count": 61,
     "metadata": {},
     "output_type": "execute_result"
    }
   ],
   "source": [
    "#Starting from 10th minute to 20th minute divide the interval into 6 periods\n",
    "pd.timedelta_range(start='10min',end = '20min' , periods=6)"
   ]
  },
  {
   "cell_type": "code",
   "execution_count": 91,
   "id": "be4791f5-3608-4f3f-ac86-c3b55aee2f6c",
   "metadata": {},
   "outputs": [
    {
     "data": {
      "text/plain": [
       "TimedeltaIndex(['0 days 00:00:02', '0 days 00:01:02', '0 days 00:02:02',\n",
       "                '0 days 00:03:02'],\n",
       "               dtype='timedelta64[ns]', freq='T')"
      ]
     },
     "execution_count": 91,
     "metadata": {},
     "output_type": "execute_result"
    }
   ],
   "source": [
    "#Create a range of four periods starting from 2 sec and thereafter every minute\n",
    "pd.timedelta_range(start='2s',periods=4,freq='min')"
   ]
  }
 ],
 "metadata": {
  "kernelspec": {
   "display_name": "Python 3",
   "language": "python",
   "name": "python3"
  },
  "language_info": {
   "codemirror_mode": {
    "name": "ipython",
    "version": 3
   },
   "file_extension": ".py",
   "mimetype": "text/x-python",
   "name": "python",
   "nbconvert_exporter": "python",
   "pygments_lexer": "ipython3",
   "version": "3.9.4"
  }
 },
 "nbformat": 4,
 "nbformat_minor": 5
}
