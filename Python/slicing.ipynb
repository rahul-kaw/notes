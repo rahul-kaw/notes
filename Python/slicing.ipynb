{
 "cells": [
  {
   "cell_type": "markdown",
   "id": "83df6585",
   "metadata": {},
   "source": [
    "## Slicing in Python\n",
    "### Slicing syntax [start:end:step]\n",
    "### Default  indices; start = 0, end = len(string), step = 1\n",
    "### For negative step size default indices are ; start = len(string)-1, end = -len(string)-1"
   ]
  },
  {
   "cell_type": "code",
   "execution_count": 1,
   "id": "b96c1684",
   "metadata": {},
   "outputs": [
    {
     "data": {
      "text/plain": [
       "'tha'"
      ]
     },
     "execution_count": 1,
     "metadata": {},
     "output_type": "execute_result"
    }
   ],
   "source": [
    "#slice from 3rd index to 6th exclusive\n",
    "s = 'earthandsky'\n",
    "s[3:6]"
   ]
  },
  {
   "cell_type": "code",
   "execution_count": 2,
   "id": "e915e3ed",
   "metadata": {},
   "outputs": [
    {
     "data": {
      "text/plain": [
       "'ies'"
      ]
     },
     "execution_count": 2,
     "metadata": {},
     "output_type": "execute_result"
    }
   ],
   "source": [
    "#start from index 2 till end of string every second index\n",
    "s = 'universe'\n",
    "s[2::2]"
   ]
  },
  {
   "cell_type": "code",
   "execution_count": 4,
   "id": "3a4dfde6",
   "metadata": {},
   "outputs": [
    {
     "data": {
      "text/plain": [
       "'on'"
      ]
     },
     "execution_count": 4,
     "metadata": {},
     "output_type": "execute_result"
    }
   ],
   "source": [
    "#overshooting index\n",
    "s = 'sunmoon'\n",
    "s[5:10]"
   ]
  },
  {
   "cell_type": "code",
   "execution_count": 6,
   "id": "67659f42",
   "metadata": {},
   "outputs": [
    {
     "data": {
      "text/plain": [
       "'onong'"
      ]
     },
     "execution_count": 6,
     "metadata": {},
     "output_type": "execute_result"
    }
   ],
   "source": [
    "#append results of two slicing operations\n",
    "s = 'moonglow'\n",
    "s[1:5:2]+s[2:5:1]"
   ]
  },
  {
   "cell_type": "code",
   "execution_count": 12,
   "id": "c242159b",
   "metadata": {},
   "outputs": [
    {
     "data": {
      "text/plain": [
       "'ri n nw'"
      ]
     },
     "execution_count": 12,
     "metadata": {},
     "output_type": "execute_result"
    }
   ],
   "source": [
    "#start, stop can be skipped \n",
    "#in this example every second character from start till end of string is extracted\n",
    "s = 'rain and snow'\n",
    "s[::2]"
   ]
  },
  {
   "cell_type": "code",
   "execution_count": 29,
   "id": "3b8a7650",
   "metadata": {},
   "outputs": [
    {
     "name": "stdout",
     "output_type": "stream",
     "text": [
      "wons dna niar\n"
     ]
    },
    {
     "data": {
      "text/plain": [
       "''"
      ]
     },
     "execution_count": 29,
     "metadata": {},
     "output_type": "execute_result"
    }
   ],
   "source": [
    "#negative step.start index should be >= than the end index\n",
    "s = 'rain and snow'\n",
    "print(s[12:-14:-1])\n",
    "\n",
    "#start index is < end index.result is empty string\n",
    "s[4:10:-1]\n"
   ]
  },
  {
   "cell_type": "code",
   "execution_count": null,
   "id": "eeec7a83",
   "metadata": {},
   "outputs": [],
   "source": [
    "#list slicing works the same way as string slicing\n",
    "l=[1,5,7]"
   ]
  }
 ],
 "metadata": {
  "kernelspec": {
   "display_name": "Python 3",
   "language": "python",
   "name": "python3"
  },
  "language_info": {
   "codemirror_mode": {
    "name": "ipython",
    "version": 3
   },
   "file_extension": ".py",
   "mimetype": "text/x-python",
   "name": "python",
   "nbconvert_exporter": "python",
   "pygments_lexer": "ipython3",
   "version": "3.9.1"
  }
 },
 "nbformat": 4,
 "nbformat_minor": 5
}
