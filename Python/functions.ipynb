{
 "cells": [
  {
   "cell_type": "markdown",
   "id": "e50129ec-c752-4733-a9c3-d73950b24037",
   "metadata": {},
   "source": [
    "### Functions as data in Python"
   ]
  },
  {
   "cell_type": "code",
   "execution_count": 28,
   "id": "9e24a89b-706c-4eb5-8523-0ecfb7a42bec",
   "metadata": {},
   "outputs": [
    {
     "name": "stdout",
     "output_type": "stream",
     "text": [
      "Call function add: 9\n",
      "Call function add: -2\n",
      "Call function multiply: 12\n",
      "Call function multiply: 0\n",
      "Call function add passed as paramenter to evalfn: -21\n",
      "Call function multiply passed as parameter to evalfn: 42\n"
     ]
    }
   ],
   "source": [
    "def add(x,y):\n",
    "    \"\"\" Adds x and y. Returns the result \"\"\"\n",
    "    return x+y\n",
    "\n",
    "def multiply(x,y):\n",
    "    \"\"\" Multiply x and y. Returns the result \"\"\"\n",
    "    return x*y\n",
    "\n",
    "def evalfn(fn,x,y):\n",
    "    \"\"\"Calls function fn with parameters x and y\"\"\"\n",
    "    \n",
    "    return fn(x,y)\n",
    "\n",
    "\n",
    "def main():\n",
    "    \"\"\"Main function.\n",
    "    Calls add,subtract function.\n",
    "    Calls funcasdata to demonstrate functions as data\n",
    "    \"\"\"\n",
    "    \n",
    "    \n",
    "    print(\"Call function add:\" , add(4,5))\n",
    "    print(\"Call function add:\" , add(-8,6))\n",
    "    print(\"Call function multiply:\" , multiply(4,3))\n",
    "    print(\"Call function multiply:\" , multiply(0,-4))\n",
    "    print(\"Call function add passed as paramenter to evalfn:\" , evalfn(add,-12,-9))\n",
    "    print(\"Call function multiply passed as parameter to evalfn:\" , evalfn(multiply,-6,-7))\n",
    "    \n",
    "\n",
    "main()"
   ]
  },
  {
   "cell_type": "markdown",
   "id": "5482558d-43a7-4681-a617-bfcd3ef5e8b0",
   "metadata": {},
   "source": [
    "### Asigning Python library function as data"
   ]
  },
  {
   "cell_type": "code",
   "execution_count": 29,
   "id": "e350d7ac-49bf-405a-94f2-1e73967ddd80",
   "metadata": {},
   "outputs": [
    {
     "name": "stdout",
     "output_type": "stream",
     "text": [
      "Square root result : 3.0\n",
      "Square root using function object assigned to a variable : 3.0\n"
     ]
    }
   ],
   "source": [
    "from math import sqrt\n",
    "\n",
    "print(f\"Square root result : {sqrt(9)}\")\n",
    "\n",
    "\n",
    "## Assign sqrt function object\n",
    "\n",
    "s = sqrt\n",
    "\n",
    "print(f\"Square root using function object assigned to a variable : {s(9)}\")\n"
   ]
  },
  {
   "cell_type": "code",
   "execution_count": 30,
   "id": "65fdea72-9649-4237-b25f-e32709559f7d",
   "metadata": {},
   "outputs": [
    {
     "name": "stdout",
     "output_type": "stream",
     "text": [
      "Length of string is : 18\n",
      "Length of a string using functon object assigned to a variable : 18\n"
     ]
    }
   ],
   "source": [
    "test_string = \"Square root result\"\n",
    "\n",
    "print(f\"Length of string is : {len(test_string)}\")\n",
    "\n",
    "## Assign len function object\n",
    "\n",
    "l = len\n",
    "\n",
    "print(f\"Length of a string using functon object assigned to a variable : {l(test_string)}\")\n"
   ]
  },
  {
   "cell_type": "markdown",
   "id": "a10c429b-a782-494d-9cac-5bc42c28a58a",
   "metadata": {},
   "source": [
    "### lambda expressions/functions also known as anynonymous functions\n",
    "### I personally use lambda expressions with functions like map() and filter()"
   ]
  },
  {
   "cell_type": "code",
   "execution_count": 39,
   "id": "12a517fc-848f-4294-9900-50e927052dd9",
   "metadata": {},
   "outputs": [
    {
     "data": {
      "text/plain": [
       "20.0"
      ]
     },
     "execution_count": 39,
     "metadata": {},
     "output_type": "execute_result"
    }
   ],
   "source": [
    "# A basic lambda function. x is bound to variable 4 when this expression is exectued\n",
    "(lambda x: (x * 2) * 5 / 2)(4)"
   ]
  },
  {
   "cell_type": "code",
   "execution_count": 47,
   "id": "b39d4263-5d1b-4369-9267-852d116dcab3",
   "metadata": {},
   "outputs": [
    {
     "data": {
      "text/plain": [
       "['lambda', 'function', 'variable']"
      ]
     },
     "execution_count": 47,
     "metadata": {},
     "output_type": "execute_result"
    }
   ],
   "source": [
    "listofwords = ['LAMBDA','FUNCTION','VARIABLE']\n",
    "list(map(lambda x : x.lower(), listofwords))"
   ]
  },
  {
   "cell_type": "code",
   "execution_count": 53,
   "id": "8cbd8351-fed1-4115-96a5-e1cc439b7e26",
   "metadata": {},
   "outputs": [
    {
     "data": {
      "text/plain": [
       "['even', 'odd', 'odd', 'even', 'even', 'even']"
      ]
     },
     "execution_count": 53,
     "metadata": {},
     "output_type": "execute_result"
    }
   ],
   "source": [
    "listofnumbers  = [6,-1,3,4,12,0]\n",
    "list(map(lambda x: 'even' if x%2 == 0 else 'odd',listofnumbers))"
   ]
  },
  {
   "cell_type": "code",
   "execution_count": null,
   "id": "3a13f3f7-0bf6-4ee6-8155-66efa15bdb74",
   "metadata": {},
   "outputs": [],
   "source": [
    "### closure example using lambda function\n",
    "### variable z is not passed as a parameter however it is embedded in lambda as a first parameter.\n",
    "### In essence lambda captures variable z hence the world closure"
   ]
  },
  {
   "cell_type": "code",
   "execution_count": 58,
   "id": "86433e24-7b4a-4922-8ca2-f0e221a68946",
   "metadata": {},
   "outputs": [
    {
     "name": "stdout",
     "output_type": "stream",
     "text": [
      "True\n"
     ]
    }
   ],
   "source": [
    "def evallambda(fn,x,y):\n",
    "    \"\"\"Calls function fn with parameters x and y\"\"\"\n",
    "    \n",
    "    return fn(x,y)\n",
    "\n",
    "def main():\n",
    "    z = 12\n",
    "    print(evallambda(lambda x,y: False if x == z else True, 5,7))\n",
    "    \n",
    "\n",
    "main()\n"
   ]
  }
 ],
 "metadata": {
  "kernelspec": {
   "display_name": "Python 3",
   "language": "python",
   "name": "python3"
  },
  "language_info": {
   "codemirror_mode": {
    "name": "ipython",
    "version": 3
   },
   "file_extension": ".py",
   "mimetype": "text/x-python",
   "name": "python",
   "nbconvert_exporter": "python",
   "pygments_lexer": "ipython3",
   "version": "3.9.4"
  }
 },
 "nbformat": 4,
 "nbformat_minor": 5
}
