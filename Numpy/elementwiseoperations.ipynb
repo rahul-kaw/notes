{
 "cells": [
  {
   "cell_type": "code",
   "execution_count": 122,
   "id": "cce1384e",
   "metadata": {},
   "outputs": [],
   "source": [
    "import numpy as np\n",
    "from IPython.core.interactiveshell import InteractiveShell\n",
    "InteractiveShell.ast_node_interactivity = \"all\""
   ]
  },
  {
   "cell_type": "markdown",
   "id": "672b6bd6",
   "metadata": {},
   "source": [
    "### A universal function (ufuncs) performs operations on each element of numpy array(ndarray)\n",
    "### There are two kinds of ufuncs; unary and binary\n",
    "### unary ufuncs operate on each element of a single numpy array\n",
    "### binary ufuncs perform element wise operations on two numpy arrays\n"
   ]
  },
  {
   "cell_type": "markdown",
   "id": "1f81be50",
   "metadata": {},
   "source": [
    "## Some examples of unary universal functions (ufuncs)"
   ]
  },
  {
   "cell_type": "code",
   "execution_count": 123,
   "id": "613d80ca",
   "metadata": {},
   "outputs": [
    {
     "data": {
      "text/plain": [
       "array([ 3,  6,  9, 13, 16, 19, 23, 26, 29, 33])"
      ]
     },
     "execution_count": 123,
     "metadata": {},
     "output_type": "execute_result"
    }
   ],
   "source": [
    "a = np.linspace(3,33,10,dtype=int)\n",
    "a"
   ]
  },
  {
   "cell_type": "code",
   "execution_count": 124,
   "id": "267be7c5",
   "metadata": {},
   "outputs": [
    {
     "data": {
      "text/plain": [
       "array([1.73205081, 2.44948974, 3.        , 3.60555128, 4.        ,\n",
       "       4.35889894, 4.79583152, 5.09901951, 5.38516481, 5.74456265])"
      ]
     },
     "execution_count": 124,
     "metadata": {},
     "output_type": "execute_result"
    }
   ],
   "source": [
    "np.sqrt(a)"
   ]
  },
  {
   "cell_type": "code",
   "execution_count": 125,
   "id": "db8ed318",
   "metadata": {},
   "outputs": [
    {
     "data": {
      "text/plain": [
       "array([2.00855369e+01, 4.03428793e+02, 8.10308393e+03, 4.42413392e+05,\n",
       "       8.88611052e+06, 1.78482301e+08, 9.74480345e+09, 1.95729609e+11,\n",
       "       3.93133430e+12, 2.14643580e+14])"
      ]
     },
     "execution_count": 125,
     "metadata": {},
     "output_type": "execute_result"
    }
   ],
   "source": [
    "np.exp(a)"
   ]
  },
  {
   "cell_type": "code",
   "execution_count": 126,
   "id": "fb69877e",
   "metadata": {},
   "outputs": [
    {
     "data": {
      "text/plain": [
       "array([1, 1, 1, 1, 1, 1, 1, 1, 1, 1])"
      ]
     },
     "execution_count": 126,
     "metadata": {},
     "output_type": "execute_result"
    }
   ],
   "source": [
    "np.sign(a)"
   ]
  },
  {
   "cell_type": "code",
   "execution_count": 127,
   "id": "9049ae2a",
   "metadata": {},
   "outputs": [
    {
     "data": {
      "text/plain": [
       "array([1.09861229, 1.79175947, 2.19722458, 2.56494936, 2.77258872,\n",
       "       2.94443898, 3.13549422, 3.25809654, 3.36729583, 3.49650756])"
      ]
     },
     "execution_count": 127,
     "metadata": {},
     "output_type": "execute_result"
    }
   ],
   "source": [
    "np.log(a)"
   ]
  },
  {
   "cell_type": "code",
   "execution_count": 128,
   "id": "78d3962b",
   "metadata": {},
   "outputs": [
    {
     "data": {
      "text/plain": [
       "array([0.47712125, 0.77815125, 0.95424251, 1.11394335, 1.20411998,\n",
       "       1.2787536 , 1.36172784, 1.41497335, 1.462398  , 1.51851394])"
      ]
     },
     "execution_count": 128,
     "metadata": {},
     "output_type": "execute_result"
    }
   ],
   "source": [
    "np.log10(a)"
   ]
  },
  {
   "cell_type": "code",
   "execution_count": 129,
   "id": "f104bdb3",
   "metadata": {},
   "outputs": [
    {
     "data": {
      "text/plain": [
       "array([   9,   36,   81,  169,  256,  361,  529,  676,  841, 1089])"
      ]
     },
     "execution_count": 129,
     "metadata": {},
     "output_type": "execute_result"
    }
   ],
   "source": [
    "np.square(a)"
   ]
  },
  {
   "cell_type": "code",
   "execution_count": 130,
   "id": "a999aa62",
   "metadata": {},
   "outputs": [
    {
     "data": {
      "text/plain": [
       "array([False, False, False, False, False, False, False, False, False,\n",
       "       False])"
      ]
     },
     "execution_count": 130,
     "metadata": {},
     "output_type": "execute_result"
    }
   ],
   "source": [
    "np.isnan(a)"
   ]
  },
  {
   "cell_type": "code",
   "execution_count": 131,
   "id": "c5bf4ec2",
   "metadata": {},
   "outputs": [
    {
     "data": {
      "text/plain": [
       "array([ 3,  6,  9, 13, 16, 19, 23, 26, 29, 33])"
      ]
     },
     "execution_count": 131,
     "metadata": {},
     "output_type": "execute_result"
    }
   ],
   "source": [
    "np.abs(a)"
   ]
  },
  {
   "cell_type": "markdown",
   "id": "5db0e23c",
   "metadata": {},
   "source": [
    "## Some examples of binary universal functions (ufuncs)"
   ]
  },
  {
   "cell_type": "code",
   "execution_count": 135,
   "id": "c4c0039f",
   "metadata": {},
   "outputs": [],
   "source": [
    "array1 = np.linspace(1,15,10)\n",
    "array2 = np.linspace(1,12,10)"
   ]
  },
  {
   "cell_type": "code",
   "execution_count": 136,
   "id": "41882079",
   "metadata": {},
   "outputs": [
    {
     "data": {
      "text/plain": [
       "array([ 1.        ,  2.55555556,  4.11111111,  5.66666667,  7.22222222,\n",
       "        8.77777778, 10.33333333, 11.88888889, 13.44444444, 15.        ])"
      ]
     },
     "execution_count": 136,
     "metadata": {},
     "output_type": "execute_result"
    },
    {
     "data": {
      "text/plain": [
       "array([ 1.        ,  2.22222222,  3.44444444,  4.66666667,  5.88888889,\n",
       "        7.11111111,  8.33333333,  9.55555556, 10.77777778, 12.        ])"
      ]
     },
     "execution_count": 136,
     "metadata": {},
     "output_type": "execute_result"
    }
   ],
   "source": [
    "array1\n",
    "array2"
   ]
  },
  {
   "cell_type": "code",
   "execution_count": 138,
   "id": "c19fb619",
   "metadata": {},
   "outputs": [
    {
     "data": {
      "text/plain": [
       "array([ 2.        ,  4.77777778,  7.55555556, 10.33333333, 13.11111111,\n",
       "       15.88888889, 18.66666667, 21.44444444, 24.22222222, 27.        ])"
      ]
     },
     "execution_count": 138,
     "metadata": {},
     "output_type": "execute_result"
    }
   ],
   "source": [
    "np.add(array1,array2)"
   ]
  },
  {
   "cell_type": "code",
   "execution_count": 139,
   "id": "c9d7bd10",
   "metadata": {},
   "outputs": [
    {
     "data": {
      "text/plain": [
       "array([  1.        ,   5.67901235,  14.16049383,  26.44444444,\n",
       "        42.5308642 ,  62.41975309,  86.11111111, 113.60493827,\n",
       "       144.90123457, 180.        ])"
      ]
     },
     "execution_count": 139,
     "metadata": {},
     "output_type": "execute_result"
    }
   ],
   "source": [
    "np.multiply(array1,array2)"
   ]
  },
  {
   "cell_type": "code",
   "execution_count": 141,
   "id": "d1bc352f",
   "metadata": {},
   "outputs": [
    {
     "data": {
      "text/plain": [
       "array([0.        , 0.33333333, 0.66666667, 1.        , 1.33333333,\n",
       "       1.66666667, 2.        , 2.33333333, 2.66666667, 3.        ])"
      ]
     },
     "execution_count": 141,
     "metadata": {},
     "output_type": "execute_result"
    }
   ],
   "source": [
    "np.mod(array1,array2)"
   ]
  },
  {
   "cell_type": "code",
   "execution_count": 142,
   "id": "f8f05505",
   "metadata": {},
   "outputs": [
    {
     "data": {
      "text/plain": [
       "array([1.        , 1.15      , 1.19354839, 1.21428571, 1.22641509,\n",
       "       1.234375  , 1.24      , 1.24418605, 1.24742268, 1.25      ])"
      ]
     },
     "execution_count": 142,
     "metadata": {},
     "output_type": "execute_result"
    }
   ],
   "source": [
    "np.divide(array1,array2)"
   ]
  },
  {
   "cell_type": "code",
   "execution_count": 146,
   "id": "eb6bba9f",
   "metadata": {},
   "outputs": [
    {
     "data": {
      "text/plain": [
       "array([ True, False, False, False, False, False, False, False, False,\n",
       "       False])"
      ]
     },
     "execution_count": 146,
     "metadata": {},
     "output_type": "execute_result"
    },
    {
     "data": {
      "text/plain": [
       "array([False,  True,  True,  True,  True,  True,  True,  True,  True,\n",
       "        True])"
      ]
     },
     "execution_count": 146,
     "metadata": {},
     "output_type": "execute_result"
    }
   ],
   "source": [
    "np.equal(array1,array2)\n",
    "np.not_equal(array1,array2)"
   ]
  },
  {
   "cell_type": "code",
   "execution_count": 143,
   "id": "df175084",
   "metadata": {},
   "outputs": [
    {
     "data": {
      "text/plain": [
       "array([False,  True,  True,  True,  True,  True,  True,  True,  True,\n",
       "        True])"
      ]
     },
     "execution_count": 143,
     "metadata": {},
     "output_type": "execute_result"
    }
   ],
   "source": [
    "np.greater(array1,array2)# element wise comparison returns a boolean array"
   ]
  }
 ],
 "metadata": {
  "kernelspec": {
   "display_name": "Python 3",
   "language": "python",
   "name": "python3"
  },
  "language_info": {
   "codemirror_mode": {
    "name": "ipython",
    "version": 3
   },
   "file_extension": ".py",
   "mimetype": "text/x-python",
   "name": "python",
   "nbconvert_exporter": "python",
   "pygments_lexer": "ipython3",
   "version": "3.9.1"
  }
 },
 "nbformat": 4,
 "nbformat_minor": 5
}
