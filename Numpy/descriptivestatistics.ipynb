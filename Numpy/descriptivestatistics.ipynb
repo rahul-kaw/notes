{
 "cells": [
  {
   "cell_type": "markdown",
   "id": "69a5f38d-f392-4517-8bfe-82abaaf2b660",
   "metadata": {},
   "source": [
    "### Quick introduction to mathematical and statistical methods of Numpy"
   ]
  },
  {
   "cell_type": "code",
   "execution_count": 81,
   "id": "44191eab-6a20-42d2-b1a7-b7738678e093",
   "metadata": {},
   "outputs": [],
   "source": [
    "import numpy as np\n",
    "from IPython.core.interactiveshell import InteractiveShell\n",
    "InteractiveShell.ast_node_interactivity = \"all\""
   ]
  },
  {
   "cell_type": "code",
   "execution_count": 82,
   "id": "385d8a12-e548-49f9-9745-fcc76d1f5555",
   "metadata": {},
   "outputs": [
    {
     "data": {
      "text/plain": [
       "array([ 3.        ,  4.33333333,  5.66666667,  7.        ,  8.33333333,\n",
       "        9.66666667, 11.        , 12.33333333, 13.66666667, 15.        ])"
      ]
     },
     "execution_count": 82,
     "metadata": {},
     "output_type": "execute_result"
    }
   ],
   "source": [
    "#Create an array\n",
    "arr = np.array(np.linspace(3,15,10))\n",
    "arr"
   ]
  },
  {
   "cell_type": "code",
   "execution_count": 83,
   "id": "bac3b0e4-82b2-4e5b-b3bb-d96eda092d1e",
   "metadata": {},
   "outputs": [
    {
     "data": {
      "text/plain": [
       "9.0"
      ]
     },
     "execution_count": 83,
     "metadata": {},
     "output_type": "execute_result"
    },
    {
     "data": {
      "text/plain": [
       "9.0"
      ]
     },
     "execution_count": 83,
     "metadata": {},
     "output_type": "execute_result"
    }
   ],
   "source": [
    "#Mean of all the elements in the array\n",
    "np.mean(arr)\n",
    "\n",
    "#Calculate by iterating over array w/o using the Numpy library method\n",
    "mean = 0.0\n",
    "for i in arr:\n",
    "    mean += i\n",
    "\n",
    "mean /= len(arr)\n",
    "mean"
   ]
  },
  {
   "cell_type": "code",
   "execution_count": 84,
   "id": "c7037642-bbec-4947-be08-826f7fe22c44",
   "metadata": {},
   "outputs": [
    {
     "data": {
      "text/plain": [
       "array([ 3.        ,  7.33333333, 13.        , 20.        , 28.33333333,\n",
       "       38.        , 49.        , 61.33333333, 75.        , 90.        ])"
      ]
     },
     "execution_count": 84,
     "metadata": {},
     "output_type": "execute_result"
    },
    {
     "data": {
      "text/plain": [
       "array([3.00000000e+00, 1.30000000e+01, 7.36666667e+01, 5.15666667e+02,\n",
       "       4.29722222e+03, 4.15398148e+04, 4.56937963e+05, 5.63556821e+06,\n",
       "       7.70194322e+07, 1.15529148e+09])"
      ]
     },
     "execution_count": 84,
     "metadata": {},
     "output_type": "execute_result"
    }
   ],
   "source": [
    "#Cumulative sum of all the elements in the array\n",
    "np.cumsum(arr)\n",
    "\n",
    "#Cumulative product of all the elements in the array\n",
    "np.cumprod(arr)"
   ]
  },
  {
   "cell_type": "code",
   "execution_count": 85,
   "id": "05e63bd4-1c52-4515-9c6f-6dba0c1d59bf",
   "metadata": {},
   "outputs": [
    {
     "data": {
      "text/plain": [
       "90.0"
      ]
     },
     "execution_count": 85,
     "metadata": {},
     "output_type": "execute_result"
    },
    {
     "data": {
      "text/plain": [
       "3.0"
      ]
     },
     "execution_count": 85,
     "metadata": {},
     "output_type": "execute_result"
    },
    {
     "data": {
      "text/plain": [
       "15.0"
      ]
     },
     "execution_count": 85,
     "metadata": {},
     "output_type": "execute_result"
    }
   ],
   "source": [
    "# Sum of all elements in the array, min and max in the array\n",
    "np.sum(arr)\n",
    "np.min(arr)\n",
    "np.max(arr)"
   ]
  },
  {
   "cell_type": "code",
   "execution_count": 86,
   "id": "a0a6503d-6d4d-41dc-a778-b6f31a62b4a5",
   "metadata": {},
   "outputs": [
    {
     "data": {
      "text/plain": [
       "14.666666666666666"
      ]
     },
     "execution_count": 86,
     "metadata": {},
     "output_type": "execute_result"
    },
    {
     "data": {
      "text/plain": [
       "14.666666666666666"
      ]
     },
     "execution_count": 86,
     "metadata": {},
     "output_type": "execute_result"
    }
   ],
   "source": [
    "#Calcualte variance by using wihtout calling Numpy library method\n",
    "variance = 0.0\n",
    "for i in arr:\n",
    "    variance += ((i - arr.mean()) ** 2) / len(arr)\n",
    "sumofvar\n",
    "\n",
    "#Variance of array\n",
    "np.var(arr)"
   ]
  },
  {
   "cell_type": "code",
   "execution_count": 87,
   "id": "41485509-13f6-4766-bc36-8f3fbfc5fcf5",
   "metadata": {},
   "outputs": [
    {
     "data": {
      "text/plain": [
       "3.8297084310253524"
      ]
     },
     "execution_count": 87,
     "metadata": {},
     "output_type": "execute_result"
    },
    {
     "data": {
      "text/plain": [
       "3.8297084310253524"
      ]
     },
     "execution_count": 87,
     "metadata": {},
     "output_type": "execute_result"
    }
   ],
   "source": [
    "#Standard deviation with and without Numpy library call\n",
    "np.sqrt(variance)\n",
    "np.std(arr)"
   ]
  },
  {
   "cell_type": "markdown",
   "id": "d95decb6-ce11-43af-b335-bc9ec300e5e8",
   "metadata": {},
   "source": [
    "### Matrix operations"
   ]
  },
  {
   "cell_type": "code",
   "execution_count": 88,
   "id": "5652f4a1-763c-4389-b1ff-7de3addb6781",
   "metadata": {},
   "outputs": [
    {
     "data": {
      "text/plain": [
       "array([[1, 4, 5],\n",
       "       [0, 7, 8],\n",
       "       [2, 3, 6]])"
      ]
     },
     "execution_count": 88,
     "metadata": {},
     "output_type": "execute_result"
    }
   ],
   "source": [
    "#2D array or matrix\n",
    "matrix = np.array( ( [1,4,5],[0,7,8],[2,3,6] ) )\n",
    "matrix"
   ]
  },
  {
   "cell_type": "code",
   "execution_count": 89,
   "id": "77dfd9ea-23a7-468e-94e4-65be6af8ee66",
   "metadata": {},
   "outputs": [
    {
     "data": {
      "text/plain": [
       "array([3.33333333, 5.        , 3.66666667])"
      ]
     },
     "execution_count": 89,
     "metadata": {},
     "output_type": "execute_result"
    },
    {
     "data": {
      "text/plain": [
       "array([1.        , 4.66666667, 6.33333333])"
      ]
     },
     "execution_count": 89,
     "metadata": {},
     "output_type": "execute_result"
    }
   ],
   "source": [
    "#mean of all the elements in the matrix along each row\n",
    "np.mean(matrix, axis = 1)\n",
    "\n",
    "#mean of all the elements in the matrix along each column\n",
    "np.mean(matrix, axis = 0)"
   ]
  },
  {
   "cell_type": "code",
   "execution_count": 90,
   "id": "e353f09e-8c08-4dd8-9836-3eaa00d2a91f",
   "metadata": {},
   "outputs": [
    {
     "data": {
      "text/plain": [
       "4.0"
      ]
     },
     "execution_count": 90,
     "metadata": {},
     "output_type": "execute_result"
    },
    {
     "data": {
      "text/plain": [
       "4.0"
      ]
     },
     "execution_count": 90,
     "metadata": {},
     "output_type": "execute_result"
    }
   ],
   "source": [
    "#Iterate over matrix\n",
    "sum = 0.0\n",
    "numelements = 0\n",
    "for i in matrix:\n",
    "    sum += np.sum(i)\n",
    "    numelements += len(i)\n",
    "\n",
    "mean = sum/numelements\n",
    "mean\n",
    "\n",
    "#Numpy library call to calcualte mean of all the elements in the matrix\n",
    "np.mean(matrix)"
   ]
  },
  {
   "cell_type": "code",
   "execution_count": 91,
   "id": "6b9f4942-7b7d-41ac-8bf5-851c45171971",
   "metadata": {},
   "outputs": [
    {
     "data": {
      "text/plain": [
       "2.581988897471611"
      ]
     },
     "execution_count": 91,
     "metadata": {},
     "output_type": "execute_result"
    }
   ],
   "source": [
    "#Numpy library call to calcualte standard deviation of the matrix\n",
    "np.std(matrix)"
   ]
  },
  {
   "cell_type": "code",
   "execution_count": 92,
   "id": "2140ccb5-69fb-4097-abed-1a08a761bd20",
   "metadata": {},
   "outputs": [
    {
     "data": {
      "text/plain": [
       "array([0, 3, 5])"
      ]
     },
     "execution_count": 92,
     "metadata": {},
     "output_type": "execute_result"
    },
    {
     "data": {
      "text/plain": [
       "array([1, 0, 2])"
      ]
     },
     "execution_count": 92,
     "metadata": {},
     "output_type": "execute_result"
    },
    {
     "data": {
      "text/plain": [
       "0"
      ]
     },
     "execution_count": 92,
     "metadata": {},
     "output_type": "execute_result"
    }
   ],
   "source": [
    "#min element in the matrix along each row\n",
    "np.min(matrix,axis=0)\n",
    "\n",
    "#min element in the matrix along each column\n",
    "np.min(matrix,axis=1)\n",
    "\n",
    "#min element in the entire matrix\n",
    "np.min(matrix)"
   ]
  },
  {
   "cell_type": "code",
   "execution_count": 93,
   "id": "97dd6c0c-1266-497c-a244-4ea52bd1da61",
   "metadata": {},
   "outputs": [
    {
     "data": {
      "text/plain": [
       "array([ 1,  5, 10, 10, 17, 25, 27, 30, 36])"
      ]
     },
     "execution_count": 93,
     "metadata": {},
     "output_type": "execute_result"
    }
   ],
   "source": [
    "#cumlative sum of all the elements in the matrix\n",
    "np.cumsum(matrix)"
   ]
  },
  {
   "cell_type": "code",
   "execution_count": 94,
   "id": "8adffbd6-58c9-498b-9e71-65c23f87e3a7",
   "metadata": {},
   "outputs": [
    {
     "data": {
      "text/plain": [
       "array([[ 1,  5, 10],\n",
       "       [ 0,  7, 15],\n",
       "       [ 2,  5, 11]])"
      ]
     },
     "execution_count": 94,
     "metadata": {},
     "output_type": "execute_result"
    },
    {
     "data": {
      "text/plain": [
       "array([[ 1,  4,  5],\n",
       "       [ 1, 11, 13],\n",
       "       [ 3, 14, 19]])"
      ]
     },
     "execution_count": 94,
     "metadata": {},
     "output_type": "execute_result"
    }
   ],
   "source": [
    "#cumlative sum of all the elements in the matrix along each row\n",
    "np.cumsum(matrix,axis = 1)\n",
    "\n",
    "#cumlative sum of all the elements in the matrix along each column\n",
    "np.cumsum(matrix,axis = 0)"
   ]
  },
  {
   "cell_type": "code",
   "execution_count": 95,
   "id": "8bd55abd-c9d2-41ab-b50e-51dc0a758b62",
   "metadata": {},
   "outputs": [
    {
     "data": {
      "text/plain": [
       "array([ 1,  4, 20,  0,  0,  0,  0,  0,  0])"
      ]
     },
     "execution_count": 95,
     "metadata": {},
     "output_type": "execute_result"
    }
   ],
   "source": [
    "#cumlative product of all the elements in the matrix\n",
    "np.cumprod(matrix)"
   ]
  },
  {
   "cell_type": "code",
   "execution_count": 96,
   "id": "6b2563a5-412b-46d0-aeb9-1d1f6b660db5",
   "metadata": {},
   "outputs": [
    {
     "data": {
      "text/plain": [
       "array([[ 1,  4, 20],\n",
       "       [ 0,  0,  0],\n",
       "       [ 2,  6, 36]])"
      ]
     },
     "execution_count": 96,
     "metadata": {},
     "output_type": "execute_result"
    },
    {
     "data": {
      "text/plain": [
       "array([[  1,   4,   5],\n",
       "       [  0,  28,  40],\n",
       "       [  0,  84, 240]])"
      ]
     },
     "execution_count": 96,
     "metadata": {},
     "output_type": "execute_result"
    }
   ],
   "source": [
    "#cumlative product of all the elements in the matrix along each row\n",
    "np.cumprod(matrix,axis = 1)\n",
    "\n",
    "#cumlative product of all the elements in the matrix along each column\n",
    "np.cumprod(matrix,axis = 0)"
   ]
  }
 ],
 "metadata": {
  "kernelspec": {
   "display_name": "Python 3",
   "language": "python",
   "name": "python3"
  },
  "language_info": {
   "codemirror_mode": {
    "name": "ipython",
    "version": 3
   },
   "file_extension": ".py",
   "mimetype": "text/x-python",
   "name": "python",
   "nbconvert_exporter": "python",
   "pygments_lexer": "ipython3",
   "version": "3.9.4"
  }
 },
 "nbformat": 4,
 "nbformat_minor": 5
}
