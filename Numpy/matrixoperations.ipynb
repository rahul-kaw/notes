{
 "cells": [
  {
   "cell_type": "markdown",
   "id": "c6bbf439-8441-40dd-a5b1-f72245e0c659",
   "metadata": {},
   "source": [
    "### Basic matrix operations in Numpy"
   ]
  },
  {
   "cell_type": "code",
   "execution_count": 1,
   "id": "90f873d1-f042-4a48-a334-c80e062c2d45",
   "metadata": {},
   "outputs": [],
   "source": [
    "import numpy as np\n",
    "from IPython.core.interactiveshell import InteractiveShell\n",
    "InteractiveShell.ast_node_interactivity = \"all\""
   ]
  },
  {
   "cell_type": "code",
   "execution_count": 2,
   "id": "000d40bf-e176-45bd-8cd4-6c3674b951e7",
   "metadata": {},
   "outputs": [
    {
     "data": {
      "text/plain": [
       "array([[1, 4, 5],\n",
       "       [0, 7, 8],\n",
       "       [2, 3, 6]])"
      ]
     },
     "execution_count": 2,
     "metadata": {},
     "output_type": "execute_result"
    }
   ],
   "source": [
    "#2D array or matrix\n",
    "matrix = np.array( ( [1,4,5],[0,7,8],[2,3,6] ) )\n",
    "matrix"
   ]
  },
  {
   "cell_type": "code",
   "execution_count": 3,
   "id": "b0944261-ec90-4e7d-8bff-62a1b1334be5",
   "metadata": {},
   "outputs": [
    {
     "data": {
      "text/plain": [
       "array([1, 4, 5, 0, 7, 8, 2, 3, 6])"
      ]
     },
     "execution_count": 3,
     "metadata": {},
     "output_type": "execute_result"
    }
   ],
   "source": [
    "matrix.flatten()"
   ]
  },
  {
   "cell_type": "code",
   "execution_count": 5,
   "id": "58c4dfd8-942e-4c5d-97ca-8ac47c061439",
   "metadata": {},
   "outputs": [
    {
     "data": {
      "text/plain": [
       "array([1, 7, 6])"
      ]
     },
     "execution_count": 5,
     "metadata": {},
     "output_type": "execute_result"
    }
   ],
   "source": [
    "matrix.diagonal()"
   ]
  },
  {
   "cell_type": "code",
   "execution_count": 7,
   "id": "708417eb-1b3c-4e54-a301-40ed54210b61",
   "metadata": {},
   "outputs": [
    {
     "data": {
      "text/plain": [
       "14"
      ]
     },
     "execution_count": 7,
     "metadata": {},
     "output_type": "execute_result"
    }
   ],
   "source": [
    "matrix.diagonal().sum()"
   ]
  },
  {
   "cell_type": "code",
   "execution_count": 17,
   "id": "6eed15a9-d0c0-40da-b36f-d5b9d23743c0",
   "metadata": {},
   "outputs": [
    {
     "data": {
      "text/plain": [
       "12.0"
      ]
     },
     "execution_count": 17,
     "metadata": {},
     "output_type": "execute_result"
    }
   ],
   "source": [
    "#determinant of a matrix\n",
    "np.linalg.det(matrix)"
   ]
  },
  {
   "cell_type": "code",
   "execution_count": 9,
   "id": "b37cac21-433a-4c55-a101-8ac5ec1cf993",
   "metadata": {},
   "outputs": [
    {
     "data": {
      "text/plain": [
       "3"
      ]
     },
     "execution_count": 9,
     "metadata": {},
     "output_type": "execute_result"
    }
   ],
   "source": [
    "# Rank of a matrix is equal to number of unique rows and columns in the matrix (unique = not made of other rows or columns)\n",
    "np.linalg.matrix_rank(matrix)"
   ]
  },
  {
   "cell_type": "code",
   "execution_count": 13,
   "id": "d77ecbc3-eb21-4400-96d9-9bc49a52043e",
   "metadata": {},
   "outputs": [
    {
     "data": {
      "text/plain": [
       "array([[ 11,  47,  67],\n",
       "       [ 16,  73, 104],\n",
       "       [ 14,  47,  70]])"
      ]
     },
     "execution_count": 13,
     "metadata": {},
     "output_type": "execute_result"
    }
   ],
   "source": [
    "#For a square matrix & psotive N (2 in this example), power of matrix is defined by multiplying the matrix by itself N times\n",
    "np.linalg.matrix_power(matrix,2)"
   ]
  },
  {
   "cell_type": "code",
   "execution_count": 14,
   "id": "34bc49a9-4f4e-4342-91bf-f484e456222f",
   "metadata": {},
   "outputs": [
    {
     "data": {
      "text/plain": [
       "array([[ 1.5       , -0.75      , -0.25      ],\n",
       "       [ 1.33333333, -0.33333333, -0.66666667],\n",
       "       [-1.16666667,  0.41666667,  0.58333333]])"
      ]
     },
     "execution_count": 14,
     "metadata": {},
     "output_type": "execute_result"
    }
   ],
   "source": [
    "np.linalg.inv(matrix)"
   ]
  },
  {
   "cell_type": "code",
   "execution_count": 16,
   "id": "5c4e6572-199b-47a6-b761-e919849f169c",
   "metadata": {},
   "outputs": [
    {
     "data": {
      "text/plain": [
       "array([[2, 3, 6],\n",
       "       [1, 4, 5],\n",
       "       [0, 7, 8]])"
      ]
     },
     "execution_count": 16,
     "metadata": {},
     "output_type": "execute_result"
    }
   ],
   "source": [
    "matrix_a = np.array( [ [2,3,6],[1,4,5],[0,7,8]] )\n",
    "matrix_a"
   ]
  },
  {
   "cell_type": "code",
   "execution_count": 18,
   "id": "475ec78e-688b-4e28-af4d-61dca6dd280a",
   "metadata": {},
   "outputs": [
    {
     "data": {
      "text/plain": [
       "array([[ 6, 54, 66],\n",
       "       [ 7, 84, 99],\n",
       "       [ 7, 60, 75]])"
      ]
     },
     "execution_count": 18,
     "metadata": {},
     "output_type": "execute_result"
    }
   ],
   "source": [
    "#dot product of matrices\n",
    "np.dot(matrix,matrix_a)"
   ]
  }
 ],
 "metadata": {
  "kernelspec": {
   "display_name": "Python 3",
   "language": "python",
   "name": "python3"
  },
  "language_info": {
   "codemirror_mode": {
    "name": "ipython",
    "version": 3
   },
   "file_extension": ".py",
   "mimetype": "text/x-python",
   "name": "python",
   "nbconvert_exporter": "python",
   "pygments_lexer": "ipython3",
   "version": "3.9.4"
  }
 },
 "nbformat": 4,
 "nbformat_minor": 5
}
