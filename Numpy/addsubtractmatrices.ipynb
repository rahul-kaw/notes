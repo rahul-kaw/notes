{
 "cells": [
  {
   "cell_type": "code",
   "execution_count": 19,
   "id": "d30d0a40",
   "metadata": {},
   "outputs": [],
   "source": [
    "#import NumPy library\n",
    "import numpy as np\n",
    "from IPython.core.interactiveshell import InteractiveShell\n",
    "InteractiveShell.ast_node_interactivity = \"all\""
   ]
  },
  {
   "cell_type": "code",
   "execution_count": 20,
   "id": "aa8b025d",
   "metadata": {},
   "outputs": [
    {
     "data": {
      "text/plain": [
       "array([[ 0,  1,  2],\n",
       "       [ 3,  4,  5],\n",
       "       [ 6,  7,  8],\n",
       "       [ 9, 10, 11]])"
      ]
     },
     "execution_count": 20,
     "metadata": {},
     "output_type": "execute_result"
    }
   ],
   "source": [
    "# Create matrix using arange function \n",
    "a = np.arange(12).reshape(4,3)\n",
    "a"
   ]
  },
  {
   "cell_type": "code",
   "execution_count": 21,
   "id": "e1c6623e",
   "metadata": {},
   "outputs": [
    {
     "data": {
      "text/plain": [
       "array([[ 1,  2,  3],\n",
       "       [ 4,  5,  6],\n",
       "       [ 7,  8,  9],\n",
       "       [10, 11, 12]])"
      ]
     },
     "execution_count": 21,
     "metadata": {},
     "output_type": "execute_result"
    }
   ],
   "source": [
    "# Create matrix\n",
    "b = np.array( [ (1, 2, 3),(4, 5, 6), (7, 8, 9),(10,11,12)])\n",
    "b"
   ]
  },
  {
   "cell_type": "code",
   "execution_count": 22,
   "id": "400a7b0c",
   "metadata": {},
   "outputs": [
    {
     "data": {
      "text/plain": [
       "array([[ 1,  3,  5],\n",
       "       [ 7,  9, 11],\n",
       "       [13, 15, 17],\n",
       "       [19, 21, 23]])"
      ]
     },
     "execution_count": 22,
     "metadata": {},
     "output_type": "execute_result"
    }
   ],
   "source": [
    "#matrix a+b\n",
    "np.add(a, b)"
   ]
  },
  {
   "cell_type": "code",
   "execution_count": 23,
   "id": "5529a615",
   "metadata": {},
   "outputs": [
    {
     "data": {
      "text/plain": [
       "array([[ 1,  3,  5],\n",
       "       [ 7,  9, 11],\n",
       "       [13, 15, 17],\n",
       "       [19, 21, 23]])"
      ]
     },
     "execution_count": 23,
     "metadata": {},
     "output_type": "execute_result"
    }
   ],
   "source": [
    "#matrix b+a= a+b\n",
    "np.add(b,a)"
   ]
  },
  {
   "cell_type": "code",
   "execution_count": 24,
   "id": "b1e8eaab",
   "metadata": {},
   "outputs": [
    {
     "data": {
      "text/plain": [
       "array([[-1, -1, -1],\n",
       "       [-1, -1, -1],\n",
       "       [-1, -1, -1],\n",
       "       [-1, -1, -1]])"
      ]
     },
     "execution_count": 24,
     "metadata": {},
     "output_type": "execute_result"
    }
   ],
   "source": [
    "#subtract matrix b from matrix a\n",
    "np.subtract(a, b)"
   ]
  },
  {
   "cell_type": "code",
   "execution_count": 25,
   "id": "021f3a73",
   "metadata": {},
   "outputs": [
    {
     "data": {
      "text/plain": [
       "array([[1, 1, 1],\n",
       "       [1, 1, 1],\n",
       "       [1, 1, 1],\n",
       "       [1, 1, 1]])"
      ]
     },
     "execution_count": 25,
     "metadata": {},
     "output_type": "execute_result"
    }
   ],
   "source": [
    "#subtract matrix a from matrix b\n",
    "np.subtract(b,a)"
   ]
  }
 ],
 "metadata": {
  "kernelspec": {
   "display_name": "Python 3",
   "language": "python",
   "name": "python3"
  },
  "language_info": {
   "codemirror_mode": {
    "name": "ipython",
    "version": 3
   },
   "file_extension": ".py",
   "mimetype": "text/x-python",
   "name": "python",
   "nbconvert_exporter": "python",
   "pygments_lexer": "ipython3",
   "version": "3.9.1"
  }
 },
 "nbformat": 4,
 "nbformat_minor": 5
}
